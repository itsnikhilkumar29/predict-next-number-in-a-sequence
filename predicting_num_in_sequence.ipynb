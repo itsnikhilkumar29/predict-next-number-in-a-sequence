{
  "nbformat": 4,
  "nbformat_minor": 0,
  "metadata": {
    "colab": {
      "name": "predicting_num_in_sequence.ipynb",
      "provenance": [],
      "collapsed_sections": []
    },
    "kernelspec": {
      "name": "python3",
      "display_name": "Python 3"
    }
  },
  "cells": [
    {
      "cell_type": "code",
      "metadata": {
        "id": "MEWh8dX1O5Zx"
      },
      "source": [
        "import numpy as np\n",
        "import tensorflow as tf\n",
        "import tensorflow.keras.layers"
      ],
      "execution_count": 1,
      "outputs": []
    },
    {
      "cell_type": "code",
      "metadata": {
        "id": "xuQTdNKoPCOy"
      },
      "source": [
        "sequence=[i for i in range(0,1000,2)]\n",
        "features=[]\n",
        "labels=[]\n",
        "for _ in range(1000):\n",
        "  a=np.random.randint(450)\n",
        "  features.append(sequence[a:a+5])\n",
        "  labels.append(sequence[a+5])\n",
        "features,labels=np.array(features),np.array(labels)\n",
        "xtrain=tf.convert_to_tensor(features[:950])\n",
        "ytrain=tf.convert_to_tensor(labels[:950])\n",
        "xtest=tf.convert_to_tensor(features[950:])\n",
        "ytest=tf.convert_to_tensor(labels[950:])"
      ],
      "execution_count": 2,
      "outputs": []
    },
    {
      "cell_type": "code",
      "metadata": {
        "id": "lueYnLAs_VU0",
        "outputId": "f1c51f65-7194-404e-b1de-6f1c804e0199",
        "colab": {
          "base_uri": "https://localhost:8080/",
          "height": 34
        }
      },
      "source": [
        "xtest.shape"
      ],
      "execution_count": null,
      "outputs": [
        {
          "output_type": "execute_result",
          "data": {
            "text/plain": [
              "TensorShape([50, 5])"
            ]
          },
          "metadata": {
            "tags": []
          },
          "execution_count": 104
        }
      ]
    },
    {
      "cell_type": "code",
      "metadata": {
        "id": "RUmuCGHPMdQW",
        "outputId": "ab12dedb-4163-43cb-d4f5-b0701818c107",
        "colab": {
          "base_uri": "https://localhost:8080/",
          "height": 323
        }
      },
      "source": [
        "def buildmodel():\n",
        "  model=tf.keras.Sequential(layers=[\n",
        "  tf.keras.layers.Flatten(input_shape=(5,)),\n",
        "  tf.keras.layers.Dense(128,activation='relu',),\n",
        "  tf.keras.layers.Dense(64,activation='relu'),\n",
        "  tf.keras.layers.Dense(32,activation='relu'),\n",
        "  tf.keras.layers.Dense(1),\n",
        "  ])\n",
        "  model.summary()\n",
        "  model.compile(optimizer='adam',loss=tf.keras.losses.mean_squared_error)\n",
        "  return model\n",
        "model=buildmodel()"
      ],
      "execution_count": 12,
      "outputs": [
        {
          "output_type": "stream",
          "text": [
            "Model: \"sequential_2\"\n",
            "_________________________________________________________________\n",
            "Layer (type)                 Output Shape              Param #   \n",
            "=================================================================\n",
            "flatten_2 (Flatten)          (None, 5)                 0         \n",
            "_________________________________________________________________\n",
            "dense_8 (Dense)              (None, 128)               768       \n",
            "_________________________________________________________________\n",
            "dense_9 (Dense)              (None, 64)                8256      \n",
            "_________________________________________________________________\n",
            "dense_10 (Dense)             (None, 32)                2080      \n",
            "_________________________________________________________________\n",
            "dense_11 (Dense)             (None, 1)                 33        \n",
            "=================================================================\n",
            "Total params: 11,137\n",
            "Trainable params: 11,137\n",
            "Non-trainable params: 0\n",
            "_________________________________________________________________\n"
          ],
          "name": "stdout"
        }
      ]
    },
    {
      "cell_type": "code",
      "metadata": {
        "id": "kGF8CLnUQ8_a",
        "outputId": "ace32910-b500-47fc-8e22-d7a1f8159e61",
        "colab": {
          "base_uri": "https://localhost:8080/",
          "height": 1000
        }
      },
      "source": [
        "history=model.fit(xtrain,ytrain,epochs=200,validation_data=(xtest,ytest))"
      ],
      "execution_count": 13,
      "outputs": [
        {
          "output_type": "stream",
          "text": [
            "Epoch 1/200\n",
            "30/30 [==============================] - 0s 6ms/step - loss: 57152.0781 - val_loss: 629.3259\n",
            "Epoch 2/200\n",
            "30/30 [==============================] - 0s 2ms/step - loss: 695.7833 - val_loss: 9.6479\n",
            "Epoch 3/200\n",
            "30/30 [==============================] - 0s 2ms/step - loss: 42.3701 - val_loss: 15.8267\n",
            "Epoch 4/200\n",
            "30/30 [==============================] - 0s 2ms/step - loss: 7.2154 - val_loss: 4.0587\n",
            "Epoch 5/200\n",
            "30/30 [==============================] - 0s 2ms/step - loss: 4.9571 - val_loss: 3.8072\n",
            "Epoch 6/200\n",
            "30/30 [==============================] - 0s 2ms/step - loss: 4.5876 - val_loss: 4.4425\n",
            "Epoch 7/200\n",
            "30/30 [==============================] - 0s 2ms/step - loss: 4.3118 - val_loss: 3.1609\n",
            "Epoch 8/200\n",
            "30/30 [==============================] - 0s 2ms/step - loss: 3.8884 - val_loss: 2.7968\n",
            "Epoch 9/200\n",
            "30/30 [==============================] - 0s 2ms/step - loss: 4.6066 - val_loss: 3.8698\n",
            "Epoch 10/200\n",
            "30/30 [==============================] - 0s 2ms/step - loss: 5.0664 - val_loss: 3.5017\n",
            "Epoch 11/200\n",
            "30/30 [==============================] - 0s 2ms/step - loss: 4.4290 - val_loss: 3.5422\n",
            "Epoch 12/200\n",
            "30/30 [==============================] - 0s 2ms/step - loss: 4.3508 - val_loss: 3.5397\n",
            "Epoch 13/200\n",
            "30/30 [==============================] - 0s 2ms/step - loss: 4.3033 - val_loss: 3.4634\n",
            "Epoch 14/200\n",
            "30/30 [==============================] - 0s 2ms/step - loss: 4.1399 - val_loss: 3.0624\n",
            "Epoch 15/200\n",
            "30/30 [==============================] - 0s 2ms/step - loss: 3.8987 - val_loss: 2.9844\n",
            "Epoch 16/200\n",
            "30/30 [==============================] - 0s 2ms/step - loss: 3.8082 - val_loss: 2.8761\n",
            "Epoch 17/200\n",
            "30/30 [==============================] - 0s 2ms/step - loss: 2.3570 - val_loss: 2.1432\n",
            "Epoch 18/200\n",
            "30/30 [==============================] - 0s 2ms/step - loss: 1.5989 - val_loss: 2.0133\n",
            "Epoch 19/200\n",
            "30/30 [==============================] - 0s 2ms/step - loss: 1.1787 - val_loss: 1.1258\n",
            "Epoch 20/200\n",
            "30/30 [==============================] - 0s 2ms/step - loss: 0.8887 - val_loss: 0.5437\n",
            "Epoch 21/200\n",
            "30/30 [==============================] - 0s 2ms/step - loss: 0.9739 - val_loss: 0.4267\n",
            "Epoch 22/200\n",
            "30/30 [==============================] - 0s 2ms/step - loss: 0.7334 - val_loss: 0.3185\n",
            "Epoch 23/200\n",
            "30/30 [==============================] - 0s 2ms/step - loss: 0.3491 - val_loss: 0.3844\n",
            "Epoch 24/200\n",
            "30/30 [==============================] - 0s 2ms/step - loss: 0.3442 - val_loss: 0.2624\n",
            "Epoch 25/200\n",
            "30/30 [==============================] - 0s 2ms/step - loss: 0.2728 - val_loss: 0.1427\n",
            "Epoch 26/200\n",
            "30/30 [==============================] - 0s 2ms/step - loss: 0.1299 - val_loss: 0.1220\n",
            "Epoch 27/200\n",
            "30/30 [==============================] - 0s 2ms/step - loss: 0.1913 - val_loss: 0.1514\n",
            "Epoch 28/200\n",
            "30/30 [==============================] - 0s 2ms/step - loss: 0.9435 - val_loss: 2.5506\n",
            "Epoch 29/200\n",
            "30/30 [==============================] - 0s 2ms/step - loss: 0.4802 - val_loss: 0.0544\n",
            "Epoch 30/200\n",
            "30/30 [==============================] - 0s 2ms/step - loss: 0.0660 - val_loss: 0.0664\n",
            "Epoch 31/200\n",
            "30/30 [==============================] - 0s 2ms/step - loss: 0.0675 - val_loss: 0.0312\n",
            "Epoch 32/200\n",
            "30/30 [==============================] - 0s 2ms/step - loss: 0.0552 - val_loss: 0.0647\n",
            "Epoch 33/200\n",
            "30/30 [==============================] - 0s 2ms/step - loss: 0.1114 - val_loss: 0.0656\n",
            "Epoch 34/200\n",
            "30/30 [==============================] - 0s 2ms/step - loss: 0.0269 - val_loss: 0.0144\n",
            "Epoch 35/200\n",
            "30/30 [==============================] - 0s 2ms/step - loss: 0.0222 - val_loss: 0.0452\n",
            "Epoch 36/200\n",
            "30/30 [==============================] - 0s 2ms/step - loss: 0.0219 - val_loss: 0.0064\n",
            "Epoch 37/200\n",
            "30/30 [==============================] - 0s 2ms/step - loss: 0.0115 - val_loss: 0.0095\n",
            "Epoch 38/200\n",
            "30/30 [==============================] - 0s 2ms/step - loss: 0.0169 - val_loss: 0.0207\n",
            "Epoch 39/200\n",
            "30/30 [==============================] - 0s 2ms/step - loss: 0.0270 - val_loss: 0.0141\n",
            "Epoch 40/200\n",
            "30/30 [==============================] - 0s 2ms/step - loss: 0.0072 - val_loss: 0.0031\n",
            "Epoch 41/200\n",
            "30/30 [==============================] - 0s 2ms/step - loss: 0.0114 - val_loss: 0.0095\n",
            "Epoch 42/200\n",
            "30/30 [==============================] - 0s 2ms/step - loss: 0.0106 - val_loss: 0.0094\n",
            "Epoch 43/200\n",
            "30/30 [==============================] - 0s 2ms/step - loss: 0.0050 - val_loss: 0.0033\n",
            "Epoch 44/200\n",
            "30/30 [==============================] - 0s 2ms/step - loss: 0.0042 - val_loss: 8.5665e-04\n",
            "Epoch 45/200\n",
            "30/30 [==============================] - 0s 2ms/step - loss: 0.0038 - val_loss: 7.2253e-04\n",
            "Epoch 46/200\n",
            "30/30 [==============================] - 0s 2ms/step - loss: 0.0069 - val_loss: 0.0110\n",
            "Epoch 47/200\n",
            "30/30 [==============================] - 0s 2ms/step - loss: 0.0066 - val_loss: 0.0020\n",
            "Epoch 48/200\n",
            "30/30 [==============================] - 0s 2ms/step - loss: 0.0275 - val_loss: 0.0028\n",
            "Epoch 49/200\n",
            "30/30 [==============================] - 0s 2ms/step - loss: 0.5781 - val_loss: 0.0428\n",
            "Epoch 50/200\n",
            "30/30 [==============================] - 0s 2ms/step - loss: 0.0566 - val_loss: 0.0252\n",
            "Epoch 51/200\n",
            "30/30 [==============================] - 0s 2ms/step - loss: 0.0076 - val_loss: 0.0029\n",
            "Epoch 52/200\n",
            "30/30 [==============================] - 0s 2ms/step - loss: 0.0053 - val_loss: 0.0021\n",
            "Epoch 53/200\n",
            "30/30 [==============================] - 0s 2ms/step - loss: 0.0857 - val_loss: 0.0318\n",
            "Epoch 54/200\n",
            "30/30 [==============================] - 0s 2ms/step - loss: 0.0819 - val_loss: 0.0099\n",
            "Epoch 55/200\n",
            "30/30 [==============================] - 0s 2ms/step - loss: 0.0218 - val_loss: 0.0221\n",
            "Epoch 56/200\n",
            "30/30 [==============================] - 0s 2ms/step - loss: 0.0049 - val_loss: 0.0026\n",
            "Epoch 57/200\n",
            "30/30 [==============================] - 0s 2ms/step - loss: 0.0043 - val_loss: 6.2427e-04\n",
            "Epoch 58/200\n",
            "30/30 [==============================] - 0s 2ms/step - loss: 0.0077 - val_loss: 6.7451e-04\n",
            "Epoch 59/200\n",
            "30/30 [==============================] - 0s 2ms/step - loss: 0.0062 - val_loss: 0.0639\n",
            "Epoch 60/200\n",
            "30/30 [==============================] - 0s 2ms/step - loss: 0.0460 - val_loss: 0.3779\n",
            "Epoch 61/200\n",
            "30/30 [==============================] - 0s 2ms/step - loss: 2.3710 - val_loss: 3.0833\n",
            "Epoch 62/200\n",
            "30/30 [==============================] - 0s 2ms/step - loss: 1.5122 - val_loss: 0.2702\n",
            "Epoch 63/200\n",
            "30/30 [==============================] - 0s 2ms/step - loss: 0.0361 - val_loss: 0.0353\n",
            "Epoch 64/200\n",
            "30/30 [==============================] - 0s 2ms/step - loss: 0.0199 - val_loss: 0.0082\n",
            "Epoch 65/200\n",
            "30/30 [==============================] - 0s 2ms/step - loss: 0.0033 - val_loss: 6.5579e-04\n",
            "Epoch 66/200\n",
            "30/30 [==============================] - 0s 2ms/step - loss: 0.0033 - val_loss: 0.0141\n",
            "Epoch 67/200\n",
            "30/30 [==============================] - 0s 2ms/step - loss: 0.0132 - val_loss: 0.0078\n",
            "Epoch 68/200\n",
            "30/30 [==============================] - 0s 2ms/step - loss: 0.0033 - val_loss: 0.0033\n",
            "Epoch 69/200\n",
            "30/30 [==============================] - 0s 2ms/step - loss: 0.0025 - val_loss: 9.2109e-04\n",
            "Epoch 70/200\n",
            "30/30 [==============================] - 0s 2ms/step - loss: 0.0023 - val_loss: 6.8720e-04\n",
            "Epoch 71/200\n",
            "30/30 [==============================] - 0s 2ms/step - loss: 0.0016 - val_loss: 0.0032\n",
            "Epoch 72/200\n",
            "30/30 [==============================] - 0s 2ms/step - loss: 0.0026 - val_loss: 0.0011\n",
            "Epoch 73/200\n",
            "30/30 [==============================] - 0s 2ms/step - loss: 0.0026 - val_loss: 3.6473e-05\n",
            "Epoch 74/200\n",
            "30/30 [==============================] - 0s 2ms/step - loss: 0.0038 - val_loss: 0.0121\n",
            "Epoch 75/200\n",
            "30/30 [==============================] - 0s 2ms/step - loss: 0.0283 - val_loss: 0.0013\n",
            "Epoch 76/200\n",
            "30/30 [==============================] - 0s 2ms/step - loss: 0.0215 - val_loss: 0.0156\n",
            "Epoch 77/200\n",
            "30/30 [==============================] - 0s 2ms/step - loss: 0.0112 - val_loss: 0.0029\n",
            "Epoch 78/200\n",
            "30/30 [==============================] - 0s 2ms/step - loss: 0.0075 - val_loss: 2.3087e-04\n",
            "Epoch 79/200\n",
            "30/30 [==============================] - 0s 2ms/step - loss: 0.0014 - val_loss: 3.5934e-04\n",
            "Epoch 80/200\n",
            "30/30 [==============================] - 0s 2ms/step - loss: 0.0131 - val_loss: 0.0035\n",
            "Epoch 81/200\n",
            "30/30 [==============================] - 0s 2ms/step - loss: 0.2103 - val_loss: 0.1843\n",
            "Epoch 82/200\n",
            "30/30 [==============================] - 0s 2ms/step - loss: 0.4741 - val_loss: 1.9605\n",
            "Epoch 83/200\n",
            "30/30 [==============================] - 0s 2ms/step - loss: 0.2187 - val_loss: 0.0432\n",
            "Epoch 84/200\n",
            "30/30 [==============================] - 0s 2ms/step - loss: 0.0112 - val_loss: 0.0079\n",
            "Epoch 85/200\n",
            "30/30 [==============================] - 0s 2ms/step - loss: 0.0066 - val_loss: 0.0011\n",
            "Epoch 86/200\n",
            "30/30 [==============================] - 0s 2ms/step - loss: 0.0341 - val_loss: 0.0850\n",
            "Epoch 87/200\n",
            "30/30 [==============================] - 0s 2ms/step - loss: 0.0337 - val_loss: 9.9128e-04\n",
            "Epoch 88/200\n",
            "30/30 [==============================] - 0s 2ms/step - loss: 0.5864 - val_loss: 0.7701\n",
            "Epoch 89/200\n",
            "30/30 [==============================] - 0s 2ms/step - loss: 0.8156 - val_loss: 0.2457\n",
            "Epoch 90/200\n",
            "30/30 [==============================] - 0s 2ms/step - loss: 0.0738 - val_loss: 0.0058\n",
            "Epoch 91/200\n",
            "30/30 [==============================] - 0s 2ms/step - loss: 0.0241 - val_loss: 0.0069\n",
            "Epoch 92/200\n",
            "30/30 [==============================] - 0s 2ms/step - loss: 0.0062 - val_loss: 0.0028\n",
            "Epoch 93/200\n",
            "30/30 [==============================] - 0s 2ms/step - loss: 0.0045 - val_loss: 0.0014\n",
            "Epoch 94/200\n",
            "30/30 [==============================] - 0s 2ms/step - loss: 0.0071 - val_loss: 0.0180\n",
            "Epoch 95/200\n",
            "30/30 [==============================] - 0s 2ms/step - loss: 0.0063 - val_loss: 0.0016\n",
            "Epoch 96/200\n",
            "30/30 [==============================] - 0s 2ms/step - loss: 0.0030 - val_loss: 5.5835e-04\n",
            "Epoch 97/200\n",
            "30/30 [==============================] - 0s 2ms/step - loss: 0.0013 - val_loss: 4.4177e-04\n",
            "Epoch 98/200\n",
            "30/30 [==============================] - 0s 2ms/step - loss: 0.0011 - val_loss: 4.1170e-04\n",
            "Epoch 99/200\n",
            "30/30 [==============================] - 0s 2ms/step - loss: 0.0019 - val_loss: 7.2838e-04\n",
            "Epoch 100/200\n",
            "30/30 [==============================] - 0s 2ms/step - loss: 0.0058 - val_loss: 0.0301\n",
            "Epoch 101/200\n",
            "30/30 [==============================] - 0s 2ms/step - loss: 0.4825 - val_loss: 4.0749\n",
            "Epoch 102/200\n",
            "30/30 [==============================] - 0s 2ms/step - loss: 5.6127 - val_loss: 6.4254\n",
            "Epoch 103/200\n",
            "30/30 [==============================] - 0s 2ms/step - loss: 1.5188 - val_loss: 0.8221\n",
            "Epoch 104/200\n",
            "30/30 [==============================] - 0s 2ms/step - loss: 1.0744 - val_loss: 0.9260\n",
            "Epoch 105/200\n",
            "30/30 [==============================] - 0s 2ms/step - loss: 0.6720 - val_loss: 0.3023\n",
            "Epoch 106/200\n",
            "30/30 [==============================] - 0s 2ms/step - loss: 0.9991 - val_loss: 1.1046\n",
            "Epoch 107/200\n",
            "30/30 [==============================] - 0s 2ms/step - loss: 0.2937 - val_loss: 0.1401\n",
            "Epoch 108/200\n",
            "30/30 [==============================] - 0s 2ms/step - loss: 0.1498 - val_loss: 0.0944\n",
            "Epoch 109/200\n",
            "30/30 [==============================] - 0s 2ms/step - loss: 0.1009 - val_loss: 0.1035\n",
            "Epoch 110/200\n",
            "30/30 [==============================] - 0s 2ms/step - loss: 0.0810 - val_loss: 0.0597\n",
            "Epoch 111/200\n",
            "30/30 [==============================] - 0s 2ms/step - loss: 0.0824 - val_loss: 0.0445\n",
            "Epoch 112/200\n",
            "30/30 [==============================] - 0s 2ms/step - loss: 0.0621 - val_loss: 0.0367\n",
            "Epoch 113/200\n",
            "30/30 [==============================] - 0s 2ms/step - loss: 0.0487 - val_loss: 0.0256\n",
            "Epoch 114/200\n",
            "30/30 [==============================] - 0s 2ms/step - loss: 0.0345 - val_loss: 0.0348\n",
            "Epoch 115/200\n",
            "30/30 [==============================] - 0s 2ms/step - loss: 0.0364 - val_loss: 0.0163\n",
            "Epoch 116/200\n",
            "30/30 [==============================] - 0s 2ms/step - loss: 0.0436 - val_loss: 0.0204\n",
            "Epoch 117/200\n",
            "30/30 [==============================] - 0s 2ms/step - loss: 0.0294 - val_loss: 0.0132\n",
            "Epoch 118/200\n",
            "30/30 [==============================] - 0s 2ms/step - loss: 0.0299 - val_loss: 0.0087\n",
            "Epoch 119/200\n",
            "30/30 [==============================] - 0s 2ms/step - loss: 0.0102 - val_loss: 0.0061\n",
            "Epoch 120/200\n",
            "30/30 [==============================] - 0s 2ms/step - loss: 0.0104 - val_loss: 0.0045\n",
            "Epoch 121/200\n",
            "30/30 [==============================] - 0s 2ms/step - loss: 0.0062 - val_loss: 0.0030\n",
            "Epoch 122/200\n",
            "30/30 [==============================] - 0s 3ms/step - loss: 0.0047 - val_loss: 0.0022\n",
            "Epoch 123/200\n",
            "30/30 [==============================] - 0s 2ms/step - loss: 0.0034 - val_loss: 0.0070\n",
            "Epoch 124/200\n",
            "30/30 [==============================] - 0s 2ms/step - loss: 0.0156 - val_loss: 0.0150\n",
            "Epoch 125/200\n",
            "30/30 [==============================] - 0s 2ms/step - loss: 0.0097 - val_loss: 0.0027\n",
            "Epoch 126/200\n",
            "30/30 [==============================] - 0s 2ms/step - loss: 0.0028 - val_loss: 0.0042\n",
            "Epoch 127/200\n",
            "30/30 [==============================] - 0s 2ms/step - loss: 0.0021 - val_loss: 5.0503e-04\n",
            "Epoch 128/200\n",
            "30/30 [==============================] - 0s 2ms/step - loss: 0.0018 - val_loss: 9.0883e-04\n",
            "Epoch 129/200\n",
            "30/30 [==============================] - 0s 2ms/step - loss: 9.4158e-04 - val_loss: 4.3876e-04\n",
            "Epoch 130/200\n",
            "30/30 [==============================] - 0s 2ms/step - loss: 9.1336e-04 - val_loss: 0.0045\n",
            "Epoch 131/200\n",
            "30/30 [==============================] - 0s 2ms/step - loss: 0.0025 - val_loss: 1.0994e-04\n",
            "Epoch 132/200\n",
            "30/30 [==============================] - 0s 2ms/step - loss: 5.5287e-04 - val_loss: 3.7330e-04\n",
            "Epoch 133/200\n",
            "30/30 [==============================] - 0s 2ms/step - loss: 0.0012 - val_loss: 7.7444e-05\n",
            "Epoch 134/200\n",
            "30/30 [==============================] - 0s 2ms/step - loss: 4.1873e-04 - val_loss: 7.1116e-05\n",
            "Epoch 135/200\n",
            "30/30 [==============================] - 0s 2ms/step - loss: 3.9320e-04 - val_loss: 2.4110e-05\n",
            "Epoch 136/200\n",
            "30/30 [==============================] - 0s 2ms/step - loss: 3.7777e-04 - val_loss: 4.2362e-05\n",
            "Epoch 137/200\n",
            "30/30 [==============================] - 0s 2ms/step - loss: 5.9399e-04 - val_loss: 4.3864e-04\n",
            "Epoch 138/200\n",
            "30/30 [==============================] - 0s 2ms/step - loss: 0.0044 - val_loss: 0.4211\n",
            "Epoch 139/200\n",
            "30/30 [==============================] - 0s 2ms/step - loss: 0.3626 - val_loss: 0.0285\n",
            "Epoch 140/200\n",
            "30/30 [==============================] - 0s 2ms/step - loss: 0.3005 - val_loss: 3.1131\n",
            "Epoch 141/200\n",
            "30/30 [==============================] - 0s 2ms/step - loss: 12.6554 - val_loss: 34.8519\n",
            "Epoch 142/200\n",
            "30/30 [==============================] - 0s 2ms/step - loss: 13.0682 - val_loss: 0.4692\n",
            "Epoch 143/200\n",
            "30/30 [==============================] - 0s 2ms/step - loss: 4.0192 - val_loss: 0.3524\n",
            "Epoch 144/200\n",
            "30/30 [==============================] - 0s 2ms/step - loss: 0.6547 - val_loss: 0.2432\n",
            "Epoch 145/200\n",
            "30/30 [==============================] - 0s 2ms/step - loss: 0.2731 - val_loss: 0.2259\n",
            "Epoch 146/200\n",
            "30/30 [==============================] - 0s 2ms/step - loss: 0.1803 - val_loss: 0.2081\n",
            "Epoch 147/200\n",
            "30/30 [==============================] - 0s 2ms/step - loss: 0.0825 - val_loss: 0.0510\n",
            "Epoch 148/200\n",
            "30/30 [==============================] - 0s 2ms/step - loss: 0.0281 - val_loss: 0.0287\n",
            "Epoch 149/200\n",
            "30/30 [==============================] - 0s 2ms/step - loss: 0.0284 - val_loss: 0.0524\n",
            "Epoch 150/200\n",
            "30/30 [==============================] - 0s 2ms/step - loss: 0.0295 - val_loss: 0.0159\n",
            "Epoch 151/200\n",
            "30/30 [==============================] - 0s 2ms/step - loss: 0.0118 - val_loss: 0.0714\n",
            "Epoch 152/200\n",
            "30/30 [==============================] - 0s 2ms/step - loss: 0.0385 - val_loss: 0.0140\n",
            "Epoch 153/200\n",
            "30/30 [==============================] - 0s 2ms/step - loss: 0.0078 - val_loss: 0.0039\n",
            "Epoch 154/200\n",
            "30/30 [==============================] - 0s 2ms/step - loss: 0.0057 - val_loss: 0.0043\n",
            "Epoch 155/200\n",
            "30/30 [==============================] - 0s 2ms/step - loss: 0.0036 - val_loss: 0.0025\n",
            "Epoch 156/200\n",
            "30/30 [==============================] - 0s 2ms/step - loss: 0.0039 - val_loss: 0.0037\n",
            "Epoch 157/200\n",
            "30/30 [==============================] - 0s 2ms/step - loss: 0.0092 - val_loss: 0.0204\n",
            "Epoch 158/200\n",
            "30/30 [==============================] - 0s 2ms/step - loss: 0.0086 - val_loss: 0.0049\n",
            "Epoch 159/200\n",
            "30/30 [==============================] - 0s 3ms/step - loss: 0.0065 - val_loss: 0.0026\n",
            "Epoch 160/200\n",
            "30/30 [==============================] - 0s 3ms/step - loss: 0.0214 - val_loss: 0.0010\n",
            "Epoch 161/200\n",
            "30/30 [==============================] - 0s 2ms/step - loss: 0.0076 - val_loss: 9.0107e-04\n",
            "Epoch 162/200\n",
            "30/30 [==============================] - 0s 2ms/step - loss: 0.0019 - val_loss: 0.0036\n",
            "Epoch 163/200\n",
            "30/30 [==============================] - 0s 3ms/step - loss: 0.0496 - val_loss: 0.0026\n",
            "Epoch 164/200\n",
            "30/30 [==============================] - 0s 2ms/step - loss: 0.4162 - val_loss: 1.7564\n",
            "Epoch 165/200\n",
            "30/30 [==============================] - 0s 2ms/step - loss: 0.8012 - val_loss: 3.0685\n",
            "Epoch 166/200\n",
            "30/30 [==============================] - 0s 2ms/step - loss: 1.0573 - val_loss: 0.2618\n",
            "Epoch 167/200\n",
            "30/30 [==============================] - 0s 2ms/step - loss: 0.3667 - val_loss: 0.1069\n",
            "Epoch 168/200\n",
            "30/30 [==============================] - 0s 2ms/step - loss: 0.5376 - val_loss: 1.3420\n",
            "Epoch 169/200\n",
            "30/30 [==============================] - 0s 3ms/step - loss: 4.5194 - val_loss: 1.6125\n",
            "Epoch 170/200\n",
            "30/30 [==============================] - 0s 2ms/step - loss: 1.2359 - val_loss: 0.1007\n",
            "Epoch 171/200\n",
            "30/30 [==============================] - 0s 2ms/step - loss: 0.3836 - val_loss: 1.4903\n",
            "Epoch 172/200\n",
            "30/30 [==============================] - 0s 2ms/step - loss: 1.0379 - val_loss: 3.3306\n",
            "Epoch 173/200\n",
            "30/30 [==============================] - 0s 2ms/step - loss: 1.0882 - val_loss: 1.0524\n",
            "Epoch 174/200\n",
            "30/30 [==============================] - 0s 2ms/step - loss: 0.5846 - val_loss: 0.1885\n",
            "Epoch 175/200\n",
            "30/30 [==============================] - 0s 2ms/step - loss: 0.0747 - val_loss: 0.0385\n",
            "Epoch 176/200\n",
            "30/30 [==============================] - 0s 2ms/step - loss: 0.0236 - val_loss: 0.0045\n",
            "Epoch 177/200\n",
            "30/30 [==============================] - 0s 2ms/step - loss: 0.0064 - val_loss: 0.0015\n",
            "Epoch 178/200\n",
            "30/30 [==============================] - 0s 2ms/step - loss: 0.5264 - val_loss: 0.2021\n",
            "Epoch 179/200\n",
            "30/30 [==============================] - 0s 2ms/step - loss: 0.6088 - val_loss: 0.1412\n",
            "Epoch 180/200\n",
            "30/30 [==============================] - 0s 3ms/step - loss: 0.0149 - val_loss: 0.0026\n",
            "Epoch 181/200\n",
            "30/30 [==============================] - 0s 2ms/step - loss: 1.9887 - val_loss: 27.8295\n",
            "Epoch 182/200\n",
            "30/30 [==============================] - 0s 2ms/step - loss: 42.0289 - val_loss: 22.4459\n",
            "Epoch 183/200\n",
            "30/30 [==============================] - 0s 2ms/step - loss: 7.9806 - val_loss: 1.7483\n",
            "Epoch 184/200\n",
            "30/30 [==============================] - 0s 2ms/step - loss: 0.4046 - val_loss: 0.2263\n",
            "Epoch 185/200\n",
            "30/30 [==============================] - 0s 2ms/step - loss: 0.3078 - val_loss: 0.2020\n",
            "Epoch 186/200\n",
            "30/30 [==============================] - 0s 3ms/step - loss: 0.4060 - val_loss: 0.3831\n",
            "Epoch 187/200\n",
            "30/30 [==============================] - 0s 2ms/step - loss: 0.1503 - val_loss: 0.1375\n",
            "Epoch 188/200\n",
            "30/30 [==============================] - 0s 2ms/step - loss: 0.1770 - val_loss: 0.1141\n",
            "Epoch 189/200\n",
            "30/30 [==============================] - 0s 2ms/step - loss: 0.1274 - val_loss: 0.0930\n",
            "Epoch 190/200\n",
            "30/30 [==============================] - 0s 2ms/step - loss: 0.1202 - val_loss: 0.0653\n",
            "Epoch 191/200\n",
            "30/30 [==============================] - 0s 3ms/step - loss: 0.2376 - val_loss: 0.0727\n",
            "Epoch 192/200\n",
            "30/30 [==============================] - 0s 2ms/step - loss: 0.2927 - val_loss: 0.7419\n",
            "Epoch 193/200\n",
            "30/30 [==============================] - 0s 2ms/step - loss: 2.6876 - val_loss: 7.0230\n",
            "Epoch 194/200\n",
            "30/30 [==============================] - 0s 2ms/step - loss: 1.8137 - val_loss: 1.8532\n",
            "Epoch 195/200\n",
            "30/30 [==============================] - 0s 2ms/step - loss: 1.2557 - val_loss: 0.5004\n",
            "Epoch 196/200\n",
            "30/30 [==============================] - 0s 2ms/step - loss: 0.4568 - val_loss: 0.0439\n",
            "Epoch 197/200\n",
            "30/30 [==============================] - 0s 3ms/step - loss: 0.1617 - val_loss: 0.4822\n",
            "Epoch 198/200\n",
            "30/30 [==============================] - 0s 3ms/step - loss: 1.9472 - val_loss: 2.3837\n",
            "Epoch 199/200\n",
            "30/30 [==============================] - 0s 2ms/step - loss: 2.1948 - val_loss: 2.8266\n",
            "Epoch 200/200\n",
            "30/30 [==============================] - 0s 2ms/step - loss: 1.0772 - val_loss: 0.0289\n"
          ],
          "name": "stdout"
        }
      ]
    },
    {
      "cell_type": "code",
      "metadata": {
        "id": "FMG7DvdLUvjw",
        "outputId": "fe9596f2-5329-4600-a1bd-cfe50607e896",
        "colab": {
          "base_uri": "https://localhost:8080/",
          "height": 51
        }
      },
      "source": [
        "model.evaluate(xtest,ytest)"
      ],
      "execution_count": 14,
      "outputs": [
        {
          "output_type": "stream",
          "text": [
            "2/2 [==============================] - 0s 2ms/step - loss: 0.0289\n"
          ],
          "name": "stdout"
        },
        {
          "output_type": "execute_result",
          "data": {
            "text/plain": [
              "0.028853656724095345"
            ]
          },
          "metadata": {
            "tags": []
          },
          "execution_count": 14
        }
      ]
    },
    {
      "cell_type": "code",
      "metadata": {
        "id": "HhEmD7QuWaPj"
      },
      "source": [
        "def predict(target):\n",
        "  target=np.array(target).reshape((1,5))\n",
        "  y_hat=model.predict(target)\n",
        "  y_hat=round(y_hat[0][0])\n",
        "  return y_hat"
      ],
      "execution_count": 23,
      "outputs": []
    },
    {
      "cell_type": "code",
      "metadata": {
        "id": "_wvr5BWmCwQz",
        "outputId": "d97335a5-e37d-4958-a3f8-f17d9a5c836f",
        "colab": {
          "base_uri": "https://localhost:8080/",
          "height": 34
        }
      },
      "source": [
        "target=[1,3,5,7,9]\n",
        "predict(target)"
      ],
      "execution_count": 25,
      "outputs": [
        {
          "output_type": "execute_result",
          "data": {
            "text/plain": [
              "11.0"
            ]
          },
          "metadata": {
            "tags": []
          },
          "execution_count": 25
        }
      ]
    },
    {
      "cell_type": "code",
      "metadata": {
        "id": "Lb9tIwocPdaf",
        "outputId": "f819585e-2bb2-43de-877d-4409d5af2b8e",
        "colab": {
          "base_uri": "https://localhost:8080/",
          "height": 34
        }
      },
      "source": [
        "target=[240,242,244,246,248]\n",
        "predict(target)"
      ],
      "execution_count": 40,
      "outputs": [
        {
          "output_type": "execute_result",
          "data": {
            "text/plain": [
              "250.0"
            ]
          },
          "metadata": {
            "tags": []
          },
          "execution_count": 40
        }
      ]
    },
    {
      "cell_type": "code",
      "metadata": {
        "id": "HW0bLPCSRQt6"
      },
      "source": [
        ""
      ],
      "execution_count": null,
      "outputs": []
    }
  ]
}